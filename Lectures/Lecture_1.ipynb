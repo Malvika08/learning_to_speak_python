{
  "nbformat": 4,
  "nbformat_minor": 0,
  "metadata": {
    "colab": {
      "name": "Lecture_1.ipynb",
      "provenance": [],
      "collapsed_sections": [],
      "authorship_tag": "ABX9TyM0vPIQrp7WQB7wfBGDzWwQ",
      "include_colab_link": true
    },
    "kernelspec": {
      "name": "python3",
      "display_name": "Python 3"
    }
  },
  "cells": [
    {
      "cell_type": "markdown",
      "metadata": {
        "id": "view-in-github",
        "colab_type": "text"
      },
      "source": [
        "<a href=\"https://colab.research.google.com/github/Spandan-Madan/learning_to_speak_python/blob/master/Lecture_1.ipynb\" target=\"_parent\"><img src=\"https://colab.research.google.com/assets/colab-badge.svg\" alt=\"Open In Colab\"/></a>"
      ]
    },
    {
      "cell_type": "markdown",
      "metadata": {
        "id": "EpB6RH2cLGoi",
        "colab_type": "text"
      },
      "source": [
        "Recap: Variables, objects"
      ]
    },
    {
      "cell_type": "markdown",
      "metadata": {
        "id": "zSS6_cd--XvF",
        "colab_type": "text"
      },
      "source": [
        "\"Declaring\" variables:"
      ]
    },
    {
      "cell_type": "code",
      "metadata": {
        "id": "wD61CL0Y2aU3",
        "colab_type": "code",
        "colab": {}
      },
      "source": [
        "x = 1"
      ],
      "execution_count": 0,
      "outputs": []
    },
    {
      "cell_type": "code",
      "metadata": {
        "id": "oWqcsdci2loP",
        "colab_type": "code",
        "colab": {}
      },
      "source": [
        "y = 2"
      ],
      "execution_count": 0,
      "outputs": []
    },
    {
      "cell_type": "code",
      "metadata": {
        "id": "l-WUQqY02mgR",
        "colab_type": "code",
        "colab": {}
      },
      "source": [
        "z = x + y"
      ],
      "execution_count": 0,
      "outputs": []
    },
    {
      "cell_type": "code",
      "metadata": {
        "id": "7lJ5RXyXODIy",
        "colab_type": "code",
        "outputId": "97831010-8f52-417b-bd09-a876d71c631c",
        "colab": {
          "base_uri": "https://localhost:8080/",
          "height": 34
        }
      },
      "source": [
        "print(z)"
      ],
      "execution_count": 4,
      "outputs": [
        {
          "output_type": "stream",
          "text": [
            "3\n"
          ],
          "name": "stdout"
        }
      ]
    },
    {
      "cell_type": "markdown",
      "metadata": {
        "id": "KviV4_Da2xCH",
        "colab_type": "text"
      },
      "source": [
        "What are x and y?"
      ]
    },
    {
      "cell_type": "markdown",
      "metadata": {
        "id": "I3z_7DGK-bIx",
        "colab_type": "text"
      },
      "source": [
        "Variables! (Yes, variables are also objects)"
      ]
    },
    {
      "cell_type": "markdown",
      "metadata": {
        "id": "Q28y9B15-e6d",
        "colab_type": "text"
      },
      "source": [
        "**Let's read a file:**"
      ]
    },
    {
      "cell_type": "code",
      "metadata": {
        "id": "RArQi2U12zW7",
        "colab_type": "code",
        "colab": {}
      },
      "source": [
        "with open('/content/sample_data/california_housing_test.csv', 'r') as F:\n",
        "    content = F.readlines()"
      ],
      "execution_count": 0,
      "outputs": []
    },
    {
      "cell_type": "markdown",
      "metadata": {
        "id": "AJaQX_z46wVM",
        "colab_type": "text"
      },
      "source": [
        "What is **F** here?"
      ]
    },
    {
      "cell_type": "markdown",
      "metadata": {
        "id": "8x4ROC1d-meJ",
        "colab_type": "text"
      },
      "source": [
        "A file handler object."
      ]
    },
    {
      "cell_type": "markdown",
      "metadata": {
        "id": "vC4pp0eC6z8M",
        "colab_type": "text"
      },
      "source": [
        "Every thing needs to be an object. When you open a file in python, it creates an \"opened file\" object (though it's not called that, that's what it really is in essence). \n",
        "\n",
        "This object allows you to do operations on it which are inbuilt. For example, readlines from it, write lines to it."
      ]
    },
    {
      "cell_type": "markdown",
      "metadata": {
        "id": "hWdYaFSN7EEV",
        "colab_type": "text"
      },
      "source": [
        "What is **content** here?"
      ]
    },
    {
      "cell_type": "markdown",
      "metadata": {
        "id": "oEmYHZQe-oyC",
        "colab_type": "text"
      },
      "source": [
        "A list object."
      ]
    },
    {
      "cell_type": "markdown",
      "metadata": {
        "id": "Ng4aRjx47P7M",
        "colab_type": "text"
      },
      "source": [
        "What are some obvious things you may want to do to a list? Access elements in it - "
      ]
    },
    {
      "cell_type": "code",
      "metadata": {
        "id": "ll1rXoOY5Uwd",
        "colab_type": "code",
        "outputId": "9e6f2d3d-b169-4d04-ee87-1258560ca9c9",
        "colab": {
          "base_uri": "https://localhost:8080/",
          "height": 34
        }
      },
      "source": [
        "len(content)"
      ],
      "execution_count": 6,
      "outputs": [
        {
          "output_type": "execute_result",
          "data": {
            "text/plain": [
              "3001"
            ]
          },
          "metadata": {
            "tags": []
          },
          "execution_count": 6
        }
      ]
    },
    {
      "cell_type": "code",
      "metadata": {
        "id": "bGjVzag55eu-",
        "colab_type": "code",
        "outputId": "d58ae978-5685-4f89-d1a2-37dc6e73247c",
        "colab": {
          "base_uri": "https://localhost:8080/",
          "height": 54
        }
      },
      "source": [
        "content[0]"
      ],
      "execution_count": 7,
      "outputs": [
        {
          "output_type": "execute_result",
          "data": {
            "text/plain": [
              "'\"longitude\",\"latitude\",\"housing_median_age\",\"total_rooms\",\"total_bedrooms\",\"population\",\"households\",\"median_income\",\"median_house_value\"\\n'"
            ]
          },
          "metadata": {
            "tags": []
          },
          "execution_count": 7
        }
      ]
    },
    {
      "cell_type": "code",
      "metadata": {
        "id": "hSrVWZ1y5iAd",
        "colab_type": "code",
        "outputId": "9c6eda06-e1f4-460f-ccb1-dfc6ea850090",
        "colab": {
          "base_uri": "https://localhost:8080/",
          "height": 54
        }
      },
      "source": [
        "content[1]"
      ],
      "execution_count": 8,
      "outputs": [
        {
          "output_type": "execute_result",
          "data": {
            "text/plain": [
              "'-122.050000,37.370000,27.000000,3885.000000,661.000000,1537.000000,606.000000,6.608500,344700.000000\\n'"
            ]
          },
          "metadata": {
            "tags": []
          },
          "execution_count": 8
        }
      ]
    },
    {
      "cell_type": "code",
      "metadata": {
        "id": "rvvOp_xD5i5y",
        "colab_type": "code",
        "outputId": "0d9e1575-4723-4779-9ecb-2ce34f130ec3",
        "colab": {
          "base_uri": "https://localhost:8080/",
          "height": 54
        }
      },
      "source": [
        "content[-1]"
      ],
      "execution_count": 9,
      "outputs": [
        {
          "output_type": "execute_result",
          "data": {
            "text/plain": [
              "'-119.630000,34.420000,42.000000,1765.000000,263.000000,753.000000,260.000000,8.560800,500001.000000\\n'"
            ]
          },
          "metadata": {
            "tags": []
          },
          "execution_count": 9
        }
      ]
    },
    {
      "cell_type": "markdown",
      "metadata": {
        "id": "LsZs9FN1iHRD",
        "colab_type": "text"
      },
      "source": [
        "If you see at the end of the above line, that is the value stored in content[-1], it ends with a weird looking character \"\\n\"\n",
        "\n",
        "If you open this file in notepad, or any other file viewer, this \\n character tells it that you end the line here. it's called a line break. When you press enter on your keyboard, this is what gets saved in the file for the computer to read it.\n",
        "\n",
        "This character is so common, that python comes with an inbuilt function called rstrip() which removes this from the end of the string. \n",
        "\n",
        "Why rstrip, and not nstrip()?\n",
        "Because windows signifies it as \\r, while mac, linux and most other operating systems use \\n. This function gets rid of both of them.\n",
        "\n",
        "Let's try!"
      ]
    },
    {
      "cell_type": "code",
      "metadata": {
        "id": "rl4akVlhi3NG",
        "colab_type": "code",
        "colab": {
          "base_uri": "https://localhost:8080/",
          "height": 51
        },
        "outputId": "33c03d6b-3cd7-4ad4-83f2-89759bcc7b86"
      },
      "source": [
        "print(content[-1])"
      ],
      "execution_count": 10,
      "outputs": [
        {
          "output_type": "stream",
          "text": [
            "-119.630000,34.420000,42.000000,1765.000000,263.000000,753.000000,260.000000,8.560800,500001.000000\n",
            "\n"
          ],
          "name": "stdout"
        }
      ]
    },
    {
      "cell_type": "code",
      "metadata": {
        "id": "13x3QlURi5sx",
        "colab_type": "code",
        "colab": {
          "base_uri": "https://localhost:8080/",
          "height": 34
        },
        "outputId": "38c1e5e2-7887-4f8b-9e82-a48b3135ca24"
      },
      "source": [
        "print(content[-1].rstrip())"
      ],
      "execution_count": 11,
      "outputs": [
        {
          "output_type": "stream",
          "text": [
            "-119.630000,34.420000,42.000000,1765.000000,263.000000,753.000000,260.000000,8.560800,500001.000000\n"
          ],
          "name": "stdout"
        }
      ]
    },
    {
      "cell_type": "markdown",
      "metadata": {
        "id": "ySAUglUti_OP",
        "colab_type": "text"
      },
      "source": [
        "Do you see the difference in the above two lines? The first one has an extra empty line after printing the value in content[-1], because we didn't remove \\n at the end. "
      ]
    },
    {
      "cell_type": "code",
      "metadata": {
        "id": "bCLG_20j5jnp",
        "colab_type": "code",
        "outputId": "57d2b1e6-1871-4eb8-e146-740b4dc3a185",
        "colab": {
          "base_uri": "https://localhost:8080/",
          "height": 54
        }
      },
      "source": [
        "content[0].split()"
      ],
      "execution_count": 12,
      "outputs": [
        {
          "output_type": "execute_result",
          "data": {
            "text/plain": [
              "['\"longitude\",\"latitude\",\"housing_median_age\",\"total_rooms\",\"total_bedrooms\",\"population\",\"households\",\"median_income\",\"median_house_value\"']"
            ]
          },
          "metadata": {
            "tags": []
          },
          "execution_count": 12
        }
      ]
    },
    {
      "cell_type": "markdown",
      "metadata": {
        "id": "SKyEnnUx4LSG",
        "colab_type": "text"
      },
      "source": [
        "we just used an operation called split() that all strings come with inbuilt in python"
      ]
    },
    {
      "cell_type": "markdown",
      "metadata": {
        "id": "Qaq6a4eZ7Yf1",
        "colab_type": "text"
      },
      "source": [
        "Can you make your own lists instead of just reading them from files? Yes!"
      ]
    },
    {
      "cell_type": "code",
      "metadata": {
        "id": "E2lc3nf37cPc",
        "colab_type": "code",
        "colab": {}
      },
      "source": [
        "list_1 = [1,2,3,4]"
      ],
      "execution_count": 0,
      "outputs": []
    },
    {
      "cell_type": "code",
      "metadata": {
        "id": "brAFPpwgQlGP",
        "colab_type": "code",
        "outputId": "e92bd9c7-d8ce-4024-95cc-64fa13fbe9ed",
        "colab": {
          "base_uri": "https://localhost:8080/",
          "height": 34
        }
      },
      "source": [
        "print(list_1)"
      ],
      "execution_count": 14,
      "outputs": [
        {
          "output_type": "stream",
          "text": [
            "[1, 2, 3, 4]\n"
          ],
          "name": "stdout"
        }
      ]
    },
    {
      "cell_type": "code",
      "metadata": {
        "id": "PAWooKg_Qnfn",
        "colab_type": "code",
        "colab": {}
      },
      "source": [
        "list_2 = ['hello','hello_2']"
      ],
      "execution_count": 0,
      "outputs": []
    },
    {
      "cell_type": "code",
      "metadata": {
        "id": "D9YM748HQ16W",
        "colab_type": "code",
        "colab": {}
      },
      "source": [
        "z = '1,2,3,4'"
      ],
      "execution_count": 0,
      "outputs": []
    },
    {
      "cell_type": "code",
      "metadata": {
        "id": "5Ax1-oMTQ3xm",
        "colab_type": "code",
        "outputId": "3ae00e7f-0c9e-4b2d-e66e-437383a3142d",
        "colab": {
          "base_uri": "https://localhost:8080/",
          "height": 34
        }
      },
      "source": [
        "z.split(',')"
      ],
      "execution_count": 17,
      "outputs": [
        {
          "output_type": "execute_result",
          "data": {
            "text/plain": [
              "['1', '2', '3', '4']"
            ]
          },
          "metadata": {
            "tags": []
          },
          "execution_count": 17
        }
      ]
    },
    {
      "cell_type": "markdown",
      "metadata": {
        "id": "-E87QpOz-7G0",
        "colab_type": "text"
      },
      "source": [
        "'z' is a string here. You can run the split() function on it, and it returns a list of elements in the original string. \n",
        "\n",
        "Try delcaring a string set to 'hello', and try running the split function on it. Do you get what you expected?"
      ]
    },
    {
      "cell_type": "markdown",
      "metadata": {
        "id": "bCruVa7GCP84",
        "colab_type": "text"
      },
      "source": [
        "Another common thing people do to strings is to replace a part of them. Below we show an example."
      ]
    },
    {
      "cell_type": "code",
      "metadata": {
        "id": "moAItyBzCTNI",
        "colab_type": "code",
        "colab": {
          "base_uri": "https://localhost:8080/",
          "height": 85
        },
        "outputId": "7a2159df-9539-4b43-b83a-fbf1e82be712"
      },
      "source": [
        "string_1 = 'hello bye'\n",
        "print('string_1:')\n",
        "print(string_1)\n",
        "\n",
        "\n",
        "# Let us replace the word bye with the word hi\n",
        "string_2 = string_1.replace('bye','hi')\n",
        "print('string_2:')\n",
        "print(string_2)"
      ],
      "execution_count": 18,
      "outputs": [
        {
          "output_type": "stream",
          "text": [
            "string_1:\n",
            "hello bye\n",
            "string_2:\n",
            "hello hi\n"
          ],
          "name": "stdout"
        }
      ]
    },
    {
      "cell_type": "markdown",
      "metadata": {
        "id": "5i44BAaxAh31",
        "colab_type": "text"
      },
      "source": [
        "Another common thing people do with lists is add a value at their end. This can be done by using append() on the list. Below we append the value 1000 to the list object list_1 we declared (i.e. created) above."
      ]
    },
    {
      "cell_type": "code",
      "metadata": {
        "id": "qp_076TyAZoU",
        "colab_type": "code",
        "outputId": "83dc810d-a90c-48fd-832a-20cec894aa47",
        "colab": {
          "base_uri": "https://localhost:8080/",
          "height": 51
        }
      },
      "source": [
        "print(list_1)\n",
        "list_1.append(1000)\n",
        "print(list_1)"
      ],
      "execution_count": 19,
      "outputs": [
        {
          "output_type": "stream",
          "text": [
            "[1, 2, 3, 4]\n",
            "[1, 2, 3, 4, 1000]\n"
          ],
          "name": "stdout"
        }
      ]
    },
    {
      "cell_type": "markdown",
      "metadata": {
        "id": "BEI4UqhSA4zN",
        "colab_type": "text"
      },
      "source": [
        "We can also make empty lists, and then add values to them by appending."
      ]
    },
    {
      "cell_type": "code",
      "metadata": {
        "id": "RjsSlvg8A9ex",
        "colab_type": "code",
        "outputId": "ce561df4-d7fd-4013-d284-62e1a265900b",
        "colab": {
          "base_uri": "https://localhost:8080/",
          "height": 119
        }
      },
      "source": [
        "empty_list = []\n",
        "print('empty list is')\n",
        "print(empty_list)\n",
        "\n",
        "# Let us append a number to it.\n",
        "empty_list.append(5)\n",
        "print('after appending it is')\n",
        "print(empty_list)\n",
        "print('after appending more it is')\n",
        "empty_list.append(15)\n",
        "print(empty_list)"
      ],
      "execution_count": 20,
      "outputs": [
        {
          "output_type": "stream",
          "text": [
            "empty list is\n",
            "[]\n",
            "after appending it is\n",
            "[5]\n",
            "after appending more it is\n",
            "[5, 15]\n"
          ],
          "name": "stdout"
        }
      ]
    },
    {
      "cell_type": "markdown",
      "metadata": {
        "id": "k0jDIghI_JDg",
        "colab_type": "text"
      },
      "source": [
        "Below chunk of code is a little complicated. At the heart of it is a for loop.\n",
        "\n",
        "'for i in range(10)' loops over different values of i. In every loop there is some variable that you are looping over. Here it is i."
      ]
    },
    {
      "cell_type": "code",
      "metadata": {
        "id": "e2xr00k3_ag6",
        "colab_type": "code",
        "outputId": "894cd278-efc6-48a2-9d00-be9dfd5c57ef",
        "colab": {
          "base_uri": "https://localhost:8080/",
          "height": 187
        }
      },
      "source": [
        "for i in range(10):\n",
        "    print(i)"
      ],
      "execution_count": 21,
      "outputs": [
        {
          "output_type": "stream",
          "text": [
            "0\n",
            "1\n",
            "2\n",
            "3\n",
            "4\n",
            "5\n",
            "6\n",
            "7\n",
            "8\n",
            "9\n"
          ],
          "name": "stdout"
        }
      ]
    },
    {
      "cell_type": "code",
      "metadata": {
        "id": "hykV5jeB_dDi",
        "colab_type": "code",
        "outputId": "a24e0a6b-a989-466c-8843-67e86a29ced0",
        "colab": {
          "base_uri": "https://localhost:8080/",
          "height": 102
        }
      },
      "source": [
        "for i in range(5):\n",
        "    print(i*2)"
      ],
      "execution_count": 22,
      "outputs": [
        {
          "output_type": "stream",
          "text": [
            "0\n",
            "2\n",
            "4\n",
            "6\n",
            "8\n"
          ],
          "name": "stdout"
        }
      ]
    },
    {
      "cell_type": "code",
      "metadata": {
        "id": "IKBmnWrzACg1",
        "colab_type": "code",
        "outputId": "bc7078b0-2904-430c-a379-1da5599516c2",
        "colab": {
          "base_uri": "https://localhost:8080/",
          "height": 102
        }
      },
      "source": [
        "for i in range(5,10):\n",
        "    print(i)"
      ],
      "execution_count": 23,
      "outputs": [
        {
          "output_type": "stream",
          "text": [
            "5\n",
            "6\n",
            "7\n",
            "8\n",
            "9\n"
          ],
          "name": "stdout"
        }
      ]
    },
    {
      "cell_type": "markdown",
      "metadata": {
        "id": "OhdND2UVAFlp",
        "colab_type": "text"
      },
      "source": [
        "As shown above, you can also start from a number other than 0 in a for loop."
      ]
    },
    {
      "cell_type": "code",
      "metadata": {
        "id": "PQts_8Yq_gFd",
        "colab_type": "code",
        "outputId": "158f1c85-8cae-4f74-81fa-ba52bb4b32b1",
        "colab": {
          "base_uri": "https://localhost:8080/",
          "height": 34
        }
      },
      "source": [
        "# Lines like this starting with a # are comments. These are added to programs so someone (and you yourself) can read your program.\n",
        "\n",
        "# Here, we create a random list. For the list, we can check its length using len(). \n",
        "# Then we write a loop where we define the range of values to loop over using the length of this list we made.\n",
        "\n",
        "z = [11,23,32,41]\n",
        "length_of_z = len(z)\n",
        "print(length_of_z)"
      ],
      "execution_count": 24,
      "outputs": [
        {
          "output_type": "stream",
          "text": [
            "4\n"
          ],
          "name": "stdout"
        }
      ]
    },
    {
      "cell_type": "code",
      "metadata": {
        "id": "LfLDo03t__oA",
        "colab_type": "code",
        "outputId": "fc5365ab-1f70-49a6-8ac3-57aa043edf3f",
        "colab": {
          "base_uri": "https://localhost:8080/",
          "height": 85
        }
      },
      "source": [
        "for i in range(length_of_z):\n",
        "    print(i)"
      ],
      "execution_count": 25,
      "outputs": [
        {
          "output_type": "stream",
          "text": [
            "0\n",
            "1\n",
            "2\n",
            "3\n"
          ],
          "name": "stdout"
        }
      ]
    },
    {
      "cell_type": "code",
      "metadata": {
        "id": "K0mfpZMVAOsY",
        "colab_type": "code",
        "outputId": "e8ec3e8c-40e6-4a17-ccb6-dc743a9dc155",
        "colab": {
          "base_uri": "https://localhost:8080/",
          "height": 85
        }
      },
      "source": [
        "# we can also directly use len() inside the range bracket as shown below:\n",
        "\n",
        "for i in range(len(z)):\n",
        "    print(i)"
      ],
      "execution_count": 26,
      "outputs": [
        {
          "output_type": "stream",
          "text": [
            "0\n",
            "1\n",
            "2\n",
            "3\n"
          ],
          "name": "stdout"
        }
      ]
    },
    {
      "cell_type": "markdown",
      "metadata": {
        "id": "8BhJ-En_AyKv",
        "colab_type": "text"
      },
      "source": [
        "We will use all that we saw above to read the contents of our file.\n",
        "\n",
        "the comments (lines with #) below explain each line of code"
      ]
    },
    {
      "cell_type": "code",
      "metadata": {
        "id": "KL2adsuJ5mW5",
        "colab_type": "code",
        "colab": {
          "base_uri": "https://localhost:8080/",
          "height": 207
        },
        "outputId": "735e5448-5119-49de-88d0-a7358100ed81"
      },
      "source": [
        "# lets loop over lines in content. Remember, we read lines in our file using readlines() and stored them in content.\n",
        "# remember that content is a list, with each element = a line in the file we read in.\n",
        "\n",
        "\n",
        "# First let's just print the first 5 lines of the file\n",
        "for i in range(5):\n",
        "    # set c = line at i_th position\n",
        "    c = content[i]\n",
        "    print(c)"
      ],
      "execution_count": 27,
      "outputs": [
        {
          "output_type": "stream",
          "text": [
            "\"longitude\",\"latitude\",\"housing_median_age\",\"total_rooms\",\"total_bedrooms\",\"population\",\"households\",\"median_income\",\"median_house_value\"\n",
            "\n",
            "-122.050000,37.370000,27.000000,3885.000000,661.000000,1537.000000,606.000000,6.608500,344700.000000\n",
            "\n",
            "-118.300000,34.260000,43.000000,1510.000000,310.000000,809.000000,277.000000,3.599000,176500.000000\n",
            "\n",
            "-117.810000,33.780000,27.000000,3589.000000,507.000000,1484.000000,495.000000,5.793400,270500.000000\n",
            "\n",
            "-118.360000,33.820000,28.000000,67.000000,15.000000,49.000000,11.000000,6.135900,330000.000000\n",
            "\n"
          ],
          "name": "stdout"
        }
      ]
    },
    {
      "cell_type": "markdown",
      "metadata": {
        "id": "Qg8E7derjIOC",
        "colab_type": "text"
      },
      "source": [
        "Let us think about how we would like to manipulate the value in a line of the file.\n",
        "\n",
        "1. Of course, there are white lines being printed between the lines of the file, because we didn't get rid of the \\n at the end of the files using rstrip(). Below, we will use rstrip()\n",
        "\n",
        "2. To break the line into columns (which are demarcated by commans, we can split each line on the comma (that is , character).\n",
        "\n",
        "Let's try these:"
      ]
    },
    {
      "cell_type": "code",
      "metadata": {
        "id": "iJFeQYWqjmBl",
        "colab_type": "code",
        "colab": {
          "base_uri": "https://localhost:8080/",
          "height": 122
        },
        "outputId": "683415ac-1db4-4b7b-dd23-1435572c9f20"
      },
      "source": [
        "# The only change from above is that we now use rstrip() and split() on the line before we print it.\n",
        "# Also, remember that these lines that start with # are comments. They are here to guide the\n",
        "# person reading the code. The computer just ignores them.\n",
        "\n",
        "\n",
        "for i in range(5):\n",
        "    c = content[i]\n",
        "\n",
        "    # let's store the modified version in a new variable called parts, and print that\n",
        "    # again, only for the first 5 lines of the file. Which, as a reminder were read into\n",
        "    # the variable content using readlines() above. And again, we are using a for loop\n",
        "    # to loop over line numbers 1 - 5 in this case.\n",
        "    parts = c.rstrip().split(',')\n",
        "    print(parts)"
      ],
      "execution_count": 28,
      "outputs": [
        {
          "output_type": "stream",
          "text": [
            "['\"longitude\"', '\"latitude\"', '\"housing_median_age\"', '\"total_rooms\"', '\"total_bedrooms\"', '\"population\"', '\"households\"', '\"median_income\"', '\"median_house_value\"']\n",
            "['-122.050000', '37.370000', '27.000000', '3885.000000', '661.000000', '1537.000000', '606.000000', '6.608500', '344700.000000']\n",
            "['-118.300000', '34.260000', '43.000000', '1510.000000', '310.000000', '809.000000', '277.000000', '3.599000', '176500.000000']\n",
            "['-117.810000', '33.780000', '27.000000', '3589.000000', '507.000000', '1484.000000', '495.000000', '5.793400', '270500.000000']\n",
            "['-118.360000', '33.820000', '28.000000', '67.000000', '15.000000', '49.000000', '11.000000', '6.135900', '330000.000000']\n"
          ],
          "name": "stdout"
        }
      ]
    },
    {
      "cell_type": "markdown",
      "metadata": {
        "id": "J7T96Uj_jpod",
        "colab_type": "text"
      },
      "source": [
        "That's neat, the variable parts above now contains the value in the line split into columns. Now, we can just read the values in column number 2 (housing median age). Remember, python starts from 0, so longitude would be column 0, and lattitude column 1."
      ]
    },
    {
      "cell_type": "code",
      "metadata": {
        "id": "c2Gl0OIPj_EB",
        "colab_type": "code",
        "colab": {
          "base_uri": "https://localhost:8080/",
          "height": 85
        },
        "outputId": "3dc18df7-074b-4b12-927c-e4e94849a78d"
      },
      "source": [
        "# Finally, let's just store the value of column 2 and print it.\n",
        "# Also, let us start the range() from 1, because we don't want to print the column name, \n",
        "# just the values\n",
        "for i in range(1,5):\n",
        "    # set c = line at i_th position\n",
        "    c = content[i]\n",
        "    parts = c.rstrip().split(',')\n",
        "\n",
        "    value_column_2 = parts[2]\n",
        "    print(value_column_2)"
      ],
      "execution_count": 29,
      "outputs": [
        {
          "output_type": "stream",
          "text": [
            "27.000000\n",
            "43.000000\n",
            "27.000000\n",
            "28.000000\n"
          ],
          "name": "stdout"
        }
      ]
    },
    {
      "cell_type": "markdown",
      "metadata": {
        "id": "HJ3IkiVakOoa",
        "colab_type": "text"
      },
      "source": [
        "We are now ready to store the values in this column into a new list by using the append function we talked about earlier.\n",
        "\n",
        "Another important thing is that we don't want to store the "
      ]
    },
    {
      "cell_type": "code",
      "metadata": {
        "id": "lBZCuPFvh3un",
        "colab_type": "code",
        "colab": {}
      },
      "source": [
        "# Again, we start the loop from i = 1 because line 0 in our file was column names. \n",
        "# We don't want to store that, we only want to store values.\n",
        "\n",
        "# Here's the whole process:\n",
        "# 1. We make an empty list called all_values\n",
        "# 2. We use a for loop to go over i, which we use as the line numbers between 1 and len(contents)\n",
        "# 3. We get the value in that line using contents[i]\n",
        "# 4. We modify the contents of this line using rstrip and replace\n",
        "# 5. We split it to get the values in different columns.\n",
        "# 6. We store the value in column 2 into a variable value_column_2\n",
        "# 7. We append this value_column_2 to the empty list we made in step 1.\n",
        "# 8. Once the for loop ends, values in column 2 of all lines would be added to the list all_values\n",
        "\n",
        "all_values = []\n",
        "\n",
        "for i in range(1,len(content)):\n",
        "\n",
        "    # set c = line at i_th position\n",
        "    c = content[i]\n",
        "    parts = c.rstrip().split(',')\n",
        "    value_column_2 = parts[2]\n",
        "\n",
        "    # We convert the value_column_2 into a decimal number (called float in pythong)\n",
        "    # because by default it is string. To get average, we need to first convert it into numbers.\n",
        "    # Python comes with inbuilt function float() which allows you to do so.\n",
        "\n",
        "    all_values.append(float(value_column_2))"
      ],
      "execution_count": 0,
      "outputs": []
    },
    {
      "cell_type": "code",
      "metadata": {
        "id": "-o1oPTpiSUOy",
        "colab_type": "code",
        "outputId": "c0df7aaa-84fe-480c-98bf-f8fdaabdbe33",
        "colab": {
          "base_uri": "https://localhost:8080/",
          "height": 34
        }
      },
      "source": [
        "print(len(all_values))"
      ],
      "execution_count": 31,
      "outputs": [
        {
          "output_type": "stream",
          "text": [
            "3000\n"
          ],
          "name": "stdout"
        }
      ]
    },
    {
      "cell_type": "code",
      "metadata": {
        "id": "aFLD3LZem6aL",
        "colab_type": "code",
        "colab": {
          "base_uri": "https://localhost:8080/",
          "height": 34
        },
        "outputId": "b1e5e726-de02-458d-ec72-69fbf9b83448"
      },
      "source": [
        "print(all_values[0])"
      ],
      "execution_count": 32,
      "outputs": [
        {
          "output_type": "stream",
          "text": [
            "27.0\n"
          ],
          "name": "stdout"
        }
      ]
    },
    {
      "cell_type": "markdown",
      "metadata": {
        "id": "ZxM7-UlmmLc0",
        "colab_type": "text"
      },
      "source": [
        "Great, as we can see these values are printed in the list."
      ]
    },
    {
      "cell_type": "markdown",
      "metadata": {
        "id": "-HXedI8CmOVT",
        "colab_type": "text"
      },
      "source": [
        "Now, we will look at 3 very common things people do with lists of numbers:\n",
        "\n",
        "1. We will sort them\n",
        "2. Plot them on a graph\n",
        "3. Get their mean (average).\n",
        "\n",
        "For sorting, python lists have an inbuilt function sorted(). \n",
        "\n",
        "Just like strings come with functions for appending and replacing, lists come with functions for sorting. Let's use this."
      ]
    },
    {
      "cell_type": "code",
      "metadata": {
        "id": "nt6r9td7nCui",
        "colab_type": "code",
        "colab": {
          "base_uri": "https://localhost:8080/",
          "height": 51
        },
        "outputId": "41bcfd5e-8199-419d-f2d1-b06cc537ef05"
      },
      "source": [
        "sorted_all_values = sorted(all_values)\n",
        "print(sorted_all_values[0])\n",
        "print(sorted_all_values[-1])"
      ],
      "execution_count": 33,
      "outputs": [
        {
          "output_type": "stream",
          "text": [
            "1.0\n",
            "52.0\n"
          ],
          "name": "stdout"
        }
      ]
    },
    {
      "cell_type": "markdown",
      "metadata": {
        "id": "tBDHZXoxmlLi",
        "colab_type": "text"
      },
      "source": [
        "So, after sorting, the first element for housing median age is 1, and the last value is 52. As you can guess based on this, sorted() sorts from minimum to maximum."
      ]
    },
    {
      "cell_type": "markdown",
      "metadata": {
        "id": "oU3UWsxnmbil",
        "colab_type": "text"
      },
      "source": [
        "How about plotting and getting a mean?"
      ]
    },
    {
      "cell_type": "markdown",
      "metadata": {
        "id": "ysuVPbw4nbqV",
        "colab_type": "text"
      },
      "source": [
        "Unfortunately, python does NOT come with inbuilt functions for these.\n",
        "\n",
        "This is where, MODULES come in. Think of modules as pieces of code that other people have written and made available publicly for people like us who may find it useful. \n",
        "\n",
        "Some other languages call them libraries, in python we call them modules. \n",
        "\n",
        "To use a new module, first you must ask python to load it, using the import function. For ex:\n",
        "\n",
        "import packagename\n",
        "\n",
        "or\n",
        "\n",
        "\n",
        "import packagename as name_of_your_choice. Let us load 2 packages, which are useful for number stuff and plotting stuff.\n",
        "\n",
        "1. numpy : for number stuff\n",
        "2. matplotlib : for plotting stuff"
      ]
    },
    {
      "cell_type": "code",
      "metadata": {
        "id": "0jllA6KvolAS",
        "colab_type": "code",
        "colab": {}
      },
      "source": [
        "import numpy as np\n",
        "import matplotlib.pyplot as plt"
      ],
      "execution_count": 0,
      "outputs": []
    },
    {
      "cell_type": "markdown",
      "metadata": {
        "id": "d2dJpGcBopOS",
        "colab_type": "text"
      },
      "source": [
        "Now, say we want to use a function 'mean', which comes with numpy. We can use it as:\n",
        "\n",
        "np.mean()\n",
        "\n",
        "Similarly, to use function plot in matplotlib, we use :\n",
        "\n",
        "plt.plot()"
      ]
    },
    {
      "cell_type": "code",
      "metadata": {
        "id": "-ih--K7Uo7h0",
        "colab_type": "code",
        "colab": {
          "base_uri": "https://localhost:8080/",
          "height": 34
        },
        "outputId": "e1050243-ac09-461b-f6eb-48f4be21dafb"
      },
      "source": [
        "mean_value = np.mean(sorted_all_values)\n",
        "print(mean_value)"
      ],
      "execution_count": 35,
      "outputs": [
        {
          "output_type": "stream",
          "text": [
            "28.845333333333333\n"
          ],
          "name": "stdout"
        }
      ]
    },
    {
      "cell_type": "code",
      "metadata": {
        "id": "6UfnbXpBpA8j",
        "colab_type": "code",
        "colab": {
          "base_uri": "https://localhost:8080/",
          "height": 282
        },
        "outputId": "598274fe-b990-46c1-9ac9-c1198bdae511"
      },
      "source": [
        "plt.plot(sorted_all_values)"
      ],
      "execution_count": 36,
      "outputs": [
        {
          "output_type": "execute_result",
          "data": {
            "text/plain": [
              "[<matplotlib.lines.Line2D at 0x7fb034e84c88>]"
            ]
          },
          "metadata": {
            "tags": []
          },
          "execution_count": 36
        },
        {
          "output_type": "display_data",
          "data": {
            "image/png": "[encoded data removed]",
            "text/plain": [
              "<Figure size 432x288 with 1 Axes>"
            ]
          },
          "metadata": {
            "tags": [],
            "needs_background": "light"
          }
        }
      ]
    },
    {
      "cell_type": "markdown",
      "metadata": {
        "id": "S72V0teMpKEN",
        "colab_type": "text"
      },
      "source": [
        "Great! We just sorted a list, found it's mean using numpy, and plotting the list using matplotlib! \n",
        "\n",
        "You just used 2 of the most used modules in python.\n",
        "\n",
        "Let's see another (very similar) example. This time, lets read column number 5 from our file. This contains populations."
      ]
    },
    {
      "cell_type": "code",
      "metadata": {
        "id": "Xx1c2qlEDp1C",
        "colab_type": "code",
        "colab": {}
      },
      "source": [
        "all_populations = []\n",
        "\n",
        "for i in range(1,len(content)):\n",
        "    c = content[i]\n",
        "    parts = c.rstrip().split(',')\n",
        "    value_column_5 = parts[5]\n",
        "    all_populations.append(float(value_column_5))"
      ],
      "execution_count": 0,
      "outputs": []
    },
    {
      "cell_type": "code",
      "metadata": {
        "id": "XpiBy1RZ6CGX",
        "colab_type": "code",
        "colab": {
          "base_uri": "https://localhost:8080/",
          "height": 299
        },
        "outputId": "60025fa2-9b63-4e00-98ab-134c57cdb4e5"
      },
      "source": [
        "sorted_all_populations = sorted(all_populations)\n",
        "print(np.mean(sorted_all_populations))\n",
        "plt.plot(sorted_all_populations)"
      ],
      "execution_count": 38,
      "outputs": [
        {
          "output_type": "stream",
          "text": [
            "1402.7986666666666\n"
          ],
          "name": "stdout"
        },
        {
          "output_type": "execute_result",
          "data": {
            "text/plain": [
              "[<matplotlib.lines.Line2D at 0x7fb03496aef0>]"
            ]
          },
          "metadata": {
            "tags": []
          },
          "execution_count": 38
        },
        {
          "output_type": "display_data",
          "data": {
            "image/png": "[encoded data removed]",
            "text/plain": [
              "<Figure size 432x288 with 1 Axes>"
            ]
          },
          "metadata": {
            "tags": [],
            "needs_background": "light"
          }
        }
      ]
    },
    {
      "cell_type": "markdown",
      "metadata": {
        "id": "mLej746op_RU",
        "colab_type": "text"
      },
      "source": [
        "Great, let us plot both things together. This is often done to compare lists of numbers. Say, for ex, we store number of COVID cases in India in one list. Appending the current number of cases to the list everyday.\n",
        "\n",
        "Similarly, we can store numbers for the US in another list.\n",
        "\n",
        "Then, we can plot them together to see how they compare."
      ]
    },
    {
      "cell_type": "code",
      "metadata": {
        "id": "Ztb936VD6DZn",
        "colab_type": "code",
        "outputId": "2495975d-5ae6-4fb4-e5b5-4fc52b3cb1eb",
        "colab": {
          "base_uri": "https://localhost:8080/",
          "height": 282
        }
      },
      "source": [
        "plt.plot(sorted_all_values)\n",
        "plt.plot(sorted_all_populations)"
      ],
      "execution_count": 39,
      "outputs": [
        {
          "output_type": "execute_result",
          "data": {
            "text/plain": [
              "[<matplotlib.lines.Line2D at 0x7fb034dec9b0>]"
            ]
          },
          "metadata": {
            "tags": []
          },
          "execution_count": 39
        },
        {
          "output_type": "display_data",
          "data": {
            "image/png": "[encoded data removed]",
            "text/plain": [
              "<Figure size 432x288 with 1 Axes>"
            ]
          },
          "metadata": {
            "tags": [],
            "needs_background": "light"
          }
        }
      ]
    },
    {
      "cell_type": "markdown",
      "metadata": {
        "id": "tcBoPx_c7t1_",
        "colab_type": "text"
      },
      "source": [
        "So what did we *really* learn from this exercise today?\n",
        "\n",
        "\n",
        "How to open a file, read numbers from it, and get their average number. Seems boring?\n",
        "\n",
        "\n",
        "If you're an entrepreneur - this could be the average age of your app's user and know your target audience better.\n",
        "\n",
        "If you're a civil servant - this could be the number of people who went hungry this month. This may allow you to identify months last year when most people went hungry, and be prepared this year.\n",
        "\n",
        "If you're a lawyer, you could have read in a court case ruling, comparing finances of a company.\n",
        "\n",
        "If you enjoy music, you could use this to read in lyrics of a song, and find out the words most used by Pink Floyd vs Eminem.\n",
        "\n",
        "Part of the job for the little workers in your computer stays the same - Here's the location a file is stored on my disk (path), please read it's contents and store it in a convenient *object* that I can play around with."
      ]
    },
    {
      "cell_type": "markdown",
      "metadata": {
        "id": "LP1_gtjL4mw9",
        "colab_type": "text"
      },
      "source": [
        "That's how you plot two lines on the same graph. Say, you want to compare COVID cases in 2 different regions. You can plot it now! \n",
        "\n",
        "The text file has been added to github under the folder Assignments! "
      ]
    },
    {
      "cell_type": "code",
      "metadata": {
        "id": "wD12SoC7qxEL",
        "colab_type": "code",
        "colab": {}
      },
      "source": [
        ""
      ],
      "execution_count": 0,
      "outputs": []
    }
  ]
}